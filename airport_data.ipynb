{
 "cells": [
  {
   "cell_type": "code",
   "execution_count": 1,
   "id": "ce4374dd-77c3-4446-a1c8-80144cac62c0",
   "metadata": {
    "tags": []
   },
   "outputs": [],
   "source": [
    "import pandas as pd\n",
    "import requests\n",
    "import json\n",
    "from IPython.display import JSON\n",
    "from IPython.display import JSON"
   ]
  },
  {
   "cell_type": "code",
   "execution_count": 7,
   "id": "c2cfe1ef-dbe9-4323-a265-e2ebc49ee10e",
   "metadata": {},
   "outputs": [],
   "source": []
  },
  {
   "cell_type": "markdown",
   "id": "1088366c-bd6d-406b-9312-27ad828e6624",
   "metadata": {},
   "source": [
    "### We will use the AeroDataBox API, which can retrieve all sorts of information about flights and airports"
   ]
  },
  {
   "cell_type": "code",
   "execution_count": 2,
   "id": "1885c143-903a-457e-b601-4e1e4e140029",
   "metadata": {
    "tags": []
   },
   "outputs": [],
   "source": [
    "import requests\n",
    "import pandas as pd\n",
    "import sqlalchemy\n",
    "from api_keys import rapidApi_key as key\n",
    "from api_keys import mysql_key as sql_key\n"
   ]
  },
  {
   "cell_type": "code",
   "execution_count": 20,
   "id": "ed658b8d-7a67-4f4a-a67d-a65cf23aba2f",
   "metadata": {
    "tags": []
   },
   "outputs": [
    {
     "name": "stdout",
     "output_type": "stream",
     "text": [
      "{'searchBy': {'lat': 52.31, 'lon': 13.24}, 'count': 1, 'items': [{'icao': 'EDDB', 'iata': 'BER', 'name': 'Berlin Brandenburg', 'shortName': 'Brandenburg', 'municipalityName': 'Berlin', 'location': {'lat': 52.35139, 'lon': 13.493889}, 'countryCode': 'DE'}]}\n"
     ]
    }
   ],
   "source": [
    "# check to see if we can get airport information for Berlin \n",
    "\n",
    "url = \"https://aerodatabox.p.rapidapi.com/airports/search/location\"\n",
    "\n",
    "querystring = {\"lat\":\"52.31\",\n",
    "               \"lon\":\"13.24\",\n",
    "               \"radiusKm\":\"50\",\n",
    "               \"limit\":\"10\",\n",
    "               \"withFlightInfoOnly\":\"true\",\n",
    "              \"withleg\": True,\n",
    "              \"withLocation\": True}\n",
    "\n",
    "headers = {\n",
    "\t\"X-RapidAPI-Key\": key,\n",
    "\t\"X-RapidAPI-Host\": \"aerodatabox.p.rapidapi.com\"\n",
    "}\n",
    "\n",
    "response = requests.get(url, headers=headers, params=querystring)\n",
    "\n",
    "print(response.json())"
   ]
  },
  {
   "cell_type": "code",
   "execution_count": 4,
   "id": "8a2c987d-e75f-4c43-a5bf-2cbd0ba25b14",
   "metadata": {
    "tags": []
   },
   "outputs": [
    {
     "data": {
      "text/plain": [
       "{'searchBy': {'lat': 52.31, 'lon': 13.24},\n",
       " 'count': 1,\n",
       " 'items': [{'icao': 'EDDB',\n",
       "   'iata': 'BER',\n",
       "   'name': 'Berlin Brandenburg',\n",
       "   'shortName': 'Brandenburg',\n",
       "   'municipalityName': 'Berlin',\n",
       "   'location': {'lat': 52.35139, 'lon': 13.493889},\n",
       "   'countryCode': 'DE'}]}"
      ]
     },
     "execution_count": 4,
     "metadata": {},
     "output_type": "execute_result"
    }
   ],
   "source": [
    "# view the response as .json instead of .text \n",
    "response.json()"
   ]
  },
  {
   "cell_type": "code",
   "execution_count": 5,
   "id": "c5d0a30b-25e0-41f2-b196-cf578c798071",
   "metadata": {
    "tags": []
   },
   "outputs": [
    {
     "data": {
      "text/html": [
       "<div>\n",
       "<style scoped>\n",
       "    .dataframe tbody tr th:only-of-type {\n",
       "        vertical-align: middle;\n",
       "    }\n",
       "\n",
       "    .dataframe tbody tr th {\n",
       "        vertical-align: top;\n",
       "    }\n",
       "\n",
       "    .dataframe thead th {\n",
       "        text-align: right;\n",
       "    }\n",
       "</style>\n",
       "<table border=\"1\" class=\"dataframe\">\n",
       "  <thead>\n",
       "    <tr style=\"text-align: right;\">\n",
       "      <th></th>\n",
       "      <th>icao</th>\n",
       "      <th>iata</th>\n",
       "      <th>name</th>\n",
       "      <th>shortName</th>\n",
       "      <th>municipalityName</th>\n",
       "      <th>countryCode</th>\n",
       "      <th>location.lat</th>\n",
       "      <th>location.lon</th>\n",
       "    </tr>\n",
       "  </thead>\n",
       "  <tbody>\n",
       "    <tr>\n",
       "      <th>0</th>\n",
       "      <td>EDDB</td>\n",
       "      <td>BER</td>\n",
       "      <td>Berlin Brandenburg</td>\n",
       "      <td>Brandenburg</td>\n",
       "      <td>Berlin</td>\n",
       "      <td>DE</td>\n",
       "      <td>52.35139</td>\n",
       "      <td>13.493889</td>\n",
       "    </tr>\n",
       "  </tbody>\n",
       "</table>\n",
       "</div>"
      ],
      "text/plain": [
       "   icao iata                name    shortName municipalityName countryCode  \\\n",
       "0  EDDB  BER  Berlin Brandenburg  Brandenburg           Berlin          DE   \n",
       "\n",
       "   location.lat  location.lon  \n",
       "0      52.35139     13.493889  "
      ]
     },
     "execution_count": 5,
     "metadata": {},
     "output_type": "execute_result"
    }
   ],
   "source": [
    "# turn it into a dataframe \n",
    "pd.json_normalize(response.json()['items'])"
   ]
  },
  {
   "cell_type": "code",
   "execution_count": 6,
   "id": "d757a05c-e604-4ed1-91b2-3a22dd261d41",
   "metadata": {
    "tags": []
   },
   "outputs": [
    {
     "data": {
      "text/plain": [
       "{'searchBy': {'lat': 52.31, 'lon': 13.24},\n",
       " 'count': 1,\n",
       " 'items': [{'icao': 'EDDB',\n",
       "   'iata': 'BER',\n",
       "   'name': 'Berlin Brandenburg',\n",
       "   'shortName': 'Brandenburg',\n",
       "   'municipalityName': 'Berlin',\n",
       "   'location': {'lat': 52.35139, 'lon': 13.493889},\n",
       "   'countryCode': 'DE'}]}"
      ]
     },
     "execution_count": 6,
     "metadata": {},
     "output_type": "execute_result"
    }
   ],
   "source": [
    "response.json()"
   ]
  },
  {
   "cell_type": "markdown",
   "id": "d28fc1e8-0da5-4a73-a90d-cbef58508c5b",
   "metadata": {},
   "source": [
    "### Get airport information for other cities from the cities table"
   ]
  },
  {
   "cell_type": "code",
   "execution_count": 7,
   "id": "b824be0a-bc49-47f0-b28d-3979e820a7f1",
   "metadata": {
    "tags": []
   },
   "outputs": [
    {
     "name": "stdout",
     "output_type": "stream",
     "text": [
      "<class 'pandas.core.frame.DataFrame'>\n",
      "RangeIndex: 4 entries, 0 to 3\n",
      "Data columns (total 6 columns):\n",
      " #   Column      Non-Null Count  Dtype  \n",
      "---  ------      --------------  -----  \n",
      " 0   city        4 non-null      object \n",
      " 1   country     4 non-null      object \n",
      " 2   latitude    4 non-null      float64\n",
      " 3   longitude   4 non-null      float64\n",
      " 4   population  4 non-null      int64  \n",
      " 5   city_id     4 non-null      int64  \n",
      "dtypes: float64(2), int64(2), object(2)\n",
      "memory usage: 324.0+ bytes\n",
      "None\n"
     ]
    },
    {
     "data": {
      "text/html": [
       "<div>\n",
       "<style scoped>\n",
       "    .dataframe tbody tr th:only-of-type {\n",
       "        vertical-align: middle;\n",
       "    }\n",
       "\n",
       "    .dataframe tbody tr th {\n",
       "        vertical-align: top;\n",
       "    }\n",
       "\n",
       "    .dataframe thead th {\n",
       "        text-align: right;\n",
       "    }\n",
       "</style>\n",
       "<table border=\"1\" class=\"dataframe\">\n",
       "  <thead>\n",
       "    <tr style=\"text-align: right;\">\n",
       "      <th></th>\n",
       "      <th>city</th>\n",
       "      <th>country</th>\n",
       "      <th>latitude</th>\n",
       "      <th>longitude</th>\n",
       "      <th>population</th>\n",
       "      <th>city_id</th>\n",
       "    </tr>\n",
       "  </thead>\n",
       "  <tbody>\n",
       "    <tr>\n",
       "      <th>0</th>\n",
       "      <td>Berlin</td>\n",
       "      <td>Germany</td>\n",
       "      <td>52.3112</td>\n",
       "      <td>13.2418</td>\n",
       "      <td>3850809</td>\n",
       "      <td>1</td>\n",
       "    </tr>\n",
       "    <tr>\n",
       "      <th>1</th>\n",
       "      <td>London</td>\n",
       "      <td>United Kingdom</td>\n",
       "      <td>51.3026</td>\n",
       "      <td>0.7390</td>\n",
       "      <td>8799800</td>\n",
       "      <td>2</td>\n",
       "    </tr>\n",
       "    <tr>\n",
       "      <th>2</th>\n",
       "      <td>Manchester</td>\n",
       "      <td>United Kingdom</td>\n",
       "      <td>53.2846</td>\n",
       "      <td>2.1443</td>\n",
       "      <td>551938</td>\n",
       "      <td>3</td>\n",
       "    </tr>\n",
       "    <tr>\n",
       "      <th>3</th>\n",
       "      <td>Istanbul</td>\n",
       "      <td>Turkey</td>\n",
       "      <td>41.0049</td>\n",
       "      <td>28.5718</td>\n",
       "      <td>15907951</td>\n",
       "      <td>4</td>\n",
       "    </tr>\n",
       "  </tbody>\n",
       "</table>\n",
       "</div>"
      ],
      "text/plain": [
       "         city         country  latitude  longitude  population  city_id\n",
       "0      Berlin         Germany   52.3112    13.2418     3850809        1\n",
       "1      London  United Kingdom   51.3026     0.7390     8799800        2\n",
       "2  Manchester  United Kingdom   53.2846     2.1443      551938        3\n",
       "3    Istanbul          Turkey   41.0049    28.5718    15907951        4"
      ]
     },
     "execution_count": 7,
     "metadata": {},
     "output_type": "execute_result"
    }
   ],
   "source": [
    "# call cities_df into this file\n",
    "cities_df = pd.read_csv('cities.csv')\n",
    "print(cities_df.info())\n",
    "cities_df"
   ]
  },
  {
   "cell_type": "code",
   "execution_count": 8,
   "id": "7b51e2cc-159d-4766-b101-51959c13f034",
   "metadata": {
    "tags": []
   },
   "outputs": [],
   "source": [
    "airports_info_list = []\n",
    "\n",
    "for i, city in enumerate(cities_df['city_id']):\n",
    "    url = \"https://aerodatabox.p.rapidapi.com/airports/search/location\"\n",
    "    \n",
    "    querystring = {\"lat\":cities_df.iloc[i][\"latitude\"],\"lon\":cities_df.iloc[i]['longitude'],\"radiusKm\":\"100\",\"limit\":\"10\",\"withFlightInfoOnly\":\"true\"}\n",
    "    \n",
    "    headers = {\n",
    "        \"X-RapidAPI-Key\": key,\n",
    "        \"X-RapidAPI-Host\": \"aerodatabox.p.rapidapi.com\"\n",
    "    }\n",
    "    response = requests.request(\"GET\", url, headers=headers, params=querystring)\n",
    "    \n",
    "    airports_info_list.append(response.json()['items'])"
   ]
  },
  {
   "cell_type": "code",
   "execution_count": 10,
   "id": "ddb98865-7338-4fb3-ad0a-8ae976faecf7",
   "metadata": {
    "tags": []
   },
   "outputs": [
    {
     "data": {
      "text/plain": [
       "[{'icao': 'EDDB',\n",
       "  'iata': 'BER',\n",
       "  'name': 'Berlin Brandenburg',\n",
       "  'shortName': 'Brandenburg',\n",
       "  'municipalityName': 'Berlin',\n",
       "  'location': {'lat': 52.35139, 'lon': 13.493889},\n",
       "  'countryCode': 'DE'}]"
      ]
     },
     "execution_count": 10,
     "metadata": {},
     "output_type": "execute_result"
    }
   ],
   "source": [
    "airports_info_list[0]"
   ]
  },
  {
   "cell_type": "code",
   "execution_count": 11,
   "id": "ea987795-b706-4f93-b1e0-bda498b8f6c3",
   "metadata": {
    "tags": []
   },
   "outputs": [],
   "source": [
    "## only take icao and city_name from response.json()\n",
    "airports_dict = {\n",
    "                'icao':[],\n",
    "                'city_name':[]}\n",
    "\n",
    "\n",
    "for i in range(len(airports_info_list)):\n",
    "    for j in range(len(airports_info_list[i])):\n",
    "        #if item:  # Check if the item is not empty\n",
    "            airports_dict['icao'].append(airports_info_list[i][j]['icao'])\n",
    "            airports_dict['city_name'].append(airports_info_list[i][j]['municipalityName'])"
   ]
  },
  {
   "cell_type": "code",
   "execution_count": 12,
   "id": "7937d3dd-67b7-4f8f-8d98-efd592d78357",
   "metadata": {
    "tags": []
   },
   "outputs": [],
   "source": [
    "airports_df = pd.DataFrame(airports_dict)"
   ]
  },
  {
   "cell_type": "code",
   "execution_count": 13,
   "id": "b9b09a28-07e9-458b-867e-b92996aabbff",
   "metadata": {
    "tags": []
   },
   "outputs": [
    {
     "data": {
      "text/html": [
       "<div>\n",
       "<style scoped>\n",
       "    .dataframe tbody tr th:only-of-type {\n",
       "        vertical-align: middle;\n",
       "    }\n",
       "\n",
       "    .dataframe tbody tr th {\n",
       "        vertical-align: top;\n",
       "    }\n",
       "\n",
       "    .dataframe thead th {\n",
       "        text-align: right;\n",
       "    }\n",
       "</style>\n",
       "<table border=\"1\" class=\"dataframe\">\n",
       "  <thead>\n",
       "    <tr style=\"text-align: right;\">\n",
       "      <th></th>\n",
       "      <th>icao</th>\n",
       "      <th>city_name</th>\n",
       "    </tr>\n",
       "  </thead>\n",
       "  <tbody>\n",
       "    <tr>\n",
       "      <th>0</th>\n",
       "      <td>EDDB</td>\n",
       "      <td>Berlin</td>\n",
       "    </tr>\n",
       "    <tr>\n",
       "      <th>1</th>\n",
       "      <td>EGMC</td>\n",
       "      <td>Southend</td>\n",
       "    </tr>\n",
       "    <tr>\n",
       "      <th>2</th>\n",
       "      <td>EGLC</td>\n",
       "      <td>London</td>\n",
       "    </tr>\n",
       "    <tr>\n",
       "      <th>3</th>\n",
       "      <td>EGKR</td>\n",
       "      <td>Redhill</td>\n",
       "    </tr>\n",
       "    <tr>\n",
       "      <th>4</th>\n",
       "      <td>EGKK</td>\n",
       "      <td>London</td>\n",
       "    </tr>\n",
       "    <tr>\n",
       "      <th>5</th>\n",
       "      <td>EGSS</td>\n",
       "      <td>London</td>\n",
       "    </tr>\n",
       "    <tr>\n",
       "      <th>6</th>\n",
       "      <td>EGSH</td>\n",
       "      <td>Norwich</td>\n",
       "    </tr>\n",
       "    <tr>\n",
       "      <th>7</th>\n",
       "      <td>LTFM</td>\n",
       "      <td>Istanbul</td>\n",
       "    </tr>\n",
       "    <tr>\n",
       "      <th>8</th>\n",
       "      <td>LTFJ</td>\n",
       "      <td>Istanbul</td>\n",
       "    </tr>\n",
       "  </tbody>\n",
       "</table>\n",
       "</div>"
      ],
      "text/plain": [
       "   icao city_name\n",
       "0  EDDB    Berlin\n",
       "1  EGMC  Southend\n",
       "2  EGLC    London\n",
       "3  EGKR   Redhill\n",
       "4  EGKK    London\n",
       "5  EGSS    London\n",
       "6  EGSH   Norwich\n",
       "7  LTFM  Istanbul\n",
       "8  LTFJ  Istanbul"
      ]
     },
     "execution_count": 13,
     "metadata": {},
     "output_type": "execute_result"
    }
   ],
   "source": [
    "airports_df"
   ]
  },
  {
   "cell_type": "code",
   "execution_count": 14,
   "id": "26622995-ad1b-400b-ab20-26c8db9630b1",
   "metadata": {
    "tags": []
   },
   "outputs": [],
   "source": [
    "# merge airports_df with cities_df \n",
    "airports_df = airports_df.merge(cities_df, how='inner', left_on='city_name', right_on='city')[[\"icao\", \"city_id\"]]"
   ]
  },
  {
   "cell_type": "code",
   "execution_count": 15,
   "id": "b82d189c-e994-4ca8-9241-49a6a4972339",
   "metadata": {
    "tags": []
   },
   "outputs": [
    {
     "data": {
      "text/html": [
       "<div>\n",
       "<style scoped>\n",
       "    .dataframe tbody tr th:only-of-type {\n",
       "        vertical-align: middle;\n",
       "    }\n",
       "\n",
       "    .dataframe tbody tr th {\n",
       "        vertical-align: top;\n",
       "    }\n",
       "\n",
       "    .dataframe thead th {\n",
       "        text-align: right;\n",
       "    }\n",
       "</style>\n",
       "<table border=\"1\" class=\"dataframe\">\n",
       "  <thead>\n",
       "    <tr style=\"text-align: right;\">\n",
       "      <th></th>\n",
       "      <th>icao</th>\n",
       "      <th>city_id</th>\n",
       "    </tr>\n",
       "  </thead>\n",
       "  <tbody>\n",
       "    <tr>\n",
       "      <th>0</th>\n",
       "      <td>EDDB</td>\n",
       "      <td>1</td>\n",
       "    </tr>\n",
       "    <tr>\n",
       "      <th>1</th>\n",
       "      <td>EGLC</td>\n",
       "      <td>2</td>\n",
       "    </tr>\n",
       "    <tr>\n",
       "      <th>2</th>\n",
       "      <td>EGKK</td>\n",
       "      <td>2</td>\n",
       "    </tr>\n",
       "    <tr>\n",
       "      <th>3</th>\n",
       "      <td>EGSS</td>\n",
       "      <td>2</td>\n",
       "    </tr>\n",
       "    <tr>\n",
       "      <th>4</th>\n",
       "      <td>LTFM</td>\n",
       "      <td>4</td>\n",
       "    </tr>\n",
       "    <tr>\n",
       "      <th>5</th>\n",
       "      <td>LTFJ</td>\n",
       "      <td>4</td>\n",
       "    </tr>\n",
       "  </tbody>\n",
       "</table>\n",
       "</div>"
      ],
      "text/plain": [
       "   icao  city_id\n",
       "0  EDDB        1\n",
       "1  EGLC        2\n",
       "2  EGKK        2\n",
       "3  EGSS        2\n",
       "4  LTFM        4\n",
       "5  LTFJ        4"
      ]
     },
     "execution_count": 15,
     "metadata": {},
     "output_type": "execute_result"
    }
   ],
   "source": [
    "airports_df"
   ]
  },
  {
   "cell_type": "code",
   "execution_count": 16,
   "id": "5cd95421-8bd9-4ee5-89bb-a54e54d7f02f",
   "metadata": {
    "tags": []
   },
   "outputs": [],
   "source": [
    "#export to csv\n",
    "airports_df.to_csv('airports.csv', index=False)"
   ]
  },
  {
   "cell_type": "markdown",
   "id": "3b6f17ed-bc03-40a3-89f4-91f815b2f4d9",
   "metadata": {},
   "source": [
    "## Connect to the MySQL database"
   ]
  },
  {
   "cell_type": "code",
   "execution_count": 17,
   "id": "b4aeb181-af59-43d4-884d-45f13e135341",
   "metadata": {
    "tags": []
   },
   "outputs": [
    {
     "data": {
      "text/html": [
       "<div>\n",
       "<style scoped>\n",
       "    .dataframe tbody tr th:only-of-type {\n",
       "        vertical-align: middle;\n",
       "    }\n",
       "\n",
       "    .dataframe tbody tr th {\n",
       "        vertical-align: top;\n",
       "    }\n",
       "\n",
       "    .dataframe thead th {\n",
       "        text-align: right;\n",
       "    }\n",
       "</style>\n",
       "<table border=\"1\" class=\"dataframe\">\n",
       "  <thead>\n",
       "    <tr style=\"text-align: right;\">\n",
       "      <th></th>\n",
       "      <th>icao</th>\n",
       "      <th>city_id</th>\n",
       "    </tr>\n",
       "  </thead>\n",
       "  <tbody>\n",
       "    <tr>\n",
       "      <th>0</th>\n",
       "      <td>EDDB</td>\n",
       "      <td>1</td>\n",
       "    </tr>\n",
       "    <tr>\n",
       "      <th>1</th>\n",
       "      <td>EGLC</td>\n",
       "      <td>2</td>\n",
       "    </tr>\n",
       "    <tr>\n",
       "      <th>2</th>\n",
       "      <td>EGKK</td>\n",
       "      <td>2</td>\n",
       "    </tr>\n",
       "    <tr>\n",
       "      <th>3</th>\n",
       "      <td>EGSS</td>\n",
       "      <td>2</td>\n",
       "    </tr>\n",
       "    <tr>\n",
       "      <th>4</th>\n",
       "      <td>LTFM</td>\n",
       "      <td>4</td>\n",
       "    </tr>\n",
       "    <tr>\n",
       "      <th>5</th>\n",
       "      <td>LTFJ</td>\n",
       "      <td>4</td>\n",
       "    </tr>\n",
       "  </tbody>\n",
       "</table>\n",
       "</div>"
      ],
      "text/plain": [
       "   icao  city_id\n",
       "0  EDDB        1\n",
       "1  EGLC        2\n",
       "2  EGKK        2\n",
       "3  EGSS        2\n",
       "4  LTFM        4\n",
       "5  LTFJ        4"
      ]
     },
     "execution_count": 17,
     "metadata": {},
     "output_type": "execute_result"
    }
   ],
   "source": [
    "airports_df = pd.read_csv('airports.csv')\n",
    "airports_df"
   ]
  },
  {
   "cell_type": "code",
   "execution_count": 21,
   "id": "4e68a82f-b668-462c-bc21-bfe83a0e7302",
   "metadata": {
    "tags": []
   },
   "outputs": [],
   "source": [
    "host = '127.0.0.1'\n",
    "schema = 'gans_local' # The name of your database (schema) might be different\n",
    "user = 'root'\n",
    "password = 'sql_key' # YOUR password\n",
    "port = 3306\n",
    "con = f'mysql+pymysql://{user}:{password}@{host}:{port}/{schema}'"
   ]
  },
  {
   "cell_type": "code",
   "execution_count": null,
   "id": "18ab34c9-0c80-4ccd-b802-93e202b58b49",
   "metadata": {},
   "outputs": [],
   "source": []
  },
  {
   "cell_type": "code",
   "execution_count": null,
   "id": "2b0c8224-b197-4134-99e9-9355a9586470",
   "metadata": {
    "tags": []
   },
   "outputs": [],
   "source": [
    "airports_df.to_sql('airports',con=con,if_exists='append',index=False)"
   ]
  },
  {
   "cell_type": "code",
   "execution_count": 23,
   "id": "ee5bec43-a198-4dbc-abfb-b9a504d62a44",
   "metadata": {
    "tags": []
   },
   "outputs": [
    {
     "name": "stdout",
     "output_type": "stream",
     "text": [
      "   icao  city_id\n",
      "0  EDDB        1\n",
      "1  EGLC        2\n",
      "2  EGKK        2\n",
      "3  EGSS        2\n",
      "4  LTFM        4\n",
      "5  LTFJ        4\n"
     ]
    }
   ],
   "source": [
    "airports_df\n",
    "print(airports_df)"
   ]
  },
  {
   "cell_type": "code",
   "execution_count": null,
   "id": "8c7f6223-21be-492e-8672-ca320f2b6808",
   "metadata": {
    "tags": []
   },
   "outputs": [],
   "source": []
  },
  {
   "cell_type": "code",
   "execution_count": 10,
   "id": "09c6016b-5a69-41f4-bef4-77a45eca5d05",
   "metadata": {
    "tags": []
   },
   "outputs": [
    {
     "name": "stdout",
     "output_type": "stream",
     "text": [
      "Requirement already satisfied: pymysql in /Users/mucha/anaconda3/lib/python3.11/site-packages (1.1.0)\n"
     ]
    }
   ],
   "source": [
    "#!pip install pymysql"
   ]
  },
  {
   "cell_type": "code",
   "execution_count": 26,
   "id": "423d0e0b-60e3-4c6c-9890-b6ebc65f8e9e",
   "metadata": {
    "tags": []
   },
   "outputs": [
    {
     "data": {
      "text/plain": [
       "1882"
      ]
     },
     "execution_count": 26,
     "metadata": {},
     "output_type": "execute_result"
    }
   ],
   "source": [
    "#flights_df.to_sql('flights',con=con,if_exists='append',index=False)"
   ]
  },
  {
   "cell_type": "markdown",
   "id": "e8dbe2d9-5464-4ea0-9176-4f9d55abc127",
   "metadata": {
    "tags": []
   },
   "source": [
    "## Connect MySQL to AWS"
   ]
  },
  {
   "cell_type": "code",
   "execution_count": 47,
   "id": "b3da9b87-651a-4f65-9ca9-43a871b5898c",
   "metadata": {
    "tags": []
   },
   "outputs": [],
   "source": [
    "host = 'wbs-project5-db.csv6puy3yaat.eu-north-1.rds.amazonaws.com'\n",
    "schema = 'gans_aws' # The name of your database (schema) might be different\n",
    "user = 'admin'\n",
    "password = 'awskey'\n",
    "port = 3306\n",
    "con = f'mysql+pymysql://{user}:{password}@{host}:{port}/{schema}'"
   ]
  },
  {
   "cell_type": "code",
   "execution_count": 48,
   "id": "81de18db-8f9f-433f-ba50-e3c5e8407de1",
   "metadata": {
    "tags": []
   },
   "outputs": [
    {
     "data": {
      "text/plain": [
       "6"
      ]
     },
     "execution_count": 48,
     "metadata": {},
     "output_type": "execute_result"
    }
   ],
   "source": [
    "airports_df.to_sql('airports',con=con,if_exists='append',index=False)"
   ]
  },
  {
   "cell_type": "code",
   "execution_count": 49,
   "id": "3276a254-7497-416d-96fd-bfcb7895cbea",
   "metadata": {
    "tags": []
   },
   "outputs": [
    {
     "data": {
      "text/html": [
       "<div>\n",
       "<style scoped>\n",
       "    .dataframe tbody tr th:only-of-type {\n",
       "        vertical-align: middle;\n",
       "    }\n",
       "\n",
       "    .dataframe tbody tr th {\n",
       "        vertical-align: top;\n",
       "    }\n",
       "\n",
       "    .dataframe thead th {\n",
       "        text-align: right;\n",
       "    }\n",
       "</style>\n",
       "<table border=\"1\" class=\"dataframe\">\n",
       "  <thead>\n",
       "    <tr style=\"text-align: right;\">\n",
       "      <th></th>\n",
       "      <th>icao</th>\n",
       "      <th>city_id</th>\n",
       "    </tr>\n",
       "  </thead>\n",
       "  <tbody>\n",
       "    <tr>\n",
       "      <th>0</th>\n",
       "      <td>EDDB</td>\n",
       "      <td>1</td>\n",
       "    </tr>\n",
       "    <tr>\n",
       "      <th>1</th>\n",
       "      <td>EGKK</td>\n",
       "      <td>2</td>\n",
       "    </tr>\n",
       "    <tr>\n",
       "      <th>2</th>\n",
       "      <td>EGLC</td>\n",
       "      <td>2</td>\n",
       "    </tr>\n",
       "    <tr>\n",
       "      <th>3</th>\n",
       "      <td>EGSS</td>\n",
       "      <td>2</td>\n",
       "    </tr>\n",
       "    <tr>\n",
       "      <th>4</th>\n",
       "      <td>LTFJ</td>\n",
       "      <td>4</td>\n",
       "    </tr>\n",
       "    <tr>\n",
       "      <th>5</th>\n",
       "      <td>LTFM</td>\n",
       "      <td>4</td>\n",
       "    </tr>\n",
       "  </tbody>\n",
       "</table>\n",
       "</div>"
      ],
      "text/plain": [
       "   icao  city_id\n",
       "0  EDDB        1\n",
       "1  EGKK        2\n",
       "2  EGLC        2\n",
       "3  EGSS        2\n",
       "4  LTFJ        4\n",
       "5  LTFM        4"
      ]
     },
     "execution_count": 49,
     "metadata": {},
     "output_type": "execute_result"
    }
   ],
   "source": [
    "# read it and check it\n",
    "airports_df = pd.read_sql('airports', con=con)\n",
    "airports_df"
   ]
  },
  {
   "cell_type": "code",
   "execution_count": null,
   "id": "2142a4f5-757f-4df8-80db-40de7bd321cd",
   "metadata": {},
   "outputs": [],
   "source": []
  }
 ],
 "metadata": {
  "kernelspec": {
   "display_name": "Python 3 (ipykernel)",
   "language": "python",
   "name": "python3"
  },
  "language_info": {
   "codemirror_mode": {
    "name": "ipython",
    "version": 3
   },
   "file_extension": ".py",
   "mimetype": "text/x-python",
   "name": "python",
   "nbconvert_exporter": "python",
   "pygments_lexer": "ipython3",
   "version": "3.11.4"
  }
 },
 "nbformat": 4,
 "nbformat_minor": 5
}
