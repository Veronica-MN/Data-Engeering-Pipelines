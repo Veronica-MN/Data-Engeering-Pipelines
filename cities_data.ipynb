{
 "cells": [
  {
   "cell_type": "code",
   "execution_count": 1,
   "id": "54f235ab-a7cc-432b-9f3a-047c888473ec",
   "metadata": {},
   "outputs": [],
   "source": [
    "from bs4 import BeautifulSoup\n",
    "import requests\n",
    "import pandas as pd\n",
    "import re\n",
    "import sqlalchemy"
   ]
  },
  {
   "cell_type": "code",
   "execution_count": 2,
   "id": "575023b3-057e-43d2-906d-3c7c95a923be",
   "metadata": {},
   "outputs": [],
   "source": [
    "from api_keys import mysql_key as sqlkey"
   ]
  },
  {
   "cell_type": "code",
   "execution_count": 3,
   "id": "f617bfb3-a4d5-49a2-8555-d4ff24c4d200",
   "metadata": {
    "tags": []
   },
   "outputs": [],
   "source": [
    "def recreate_wiki(cities):\n",
    "  # empty list that will be filled with one dictionary of information per city\n",
    "  list_for_df = []\n",
    "\n",
    "  # begin a for loop to create a dictionary of information for each city\n",
    "  for city in cities:\n",
    "    # we can use the universal nature of wikipedias urls to our advantage here\n",
    "    # all of the urls are the same besides the city name\n",
    "    url = f'https://en.wikipedia.org/wiki/{city}'\n",
    "\n",
    "    # here we make our soup for the city\n",
    "    r = requests.get(url)\n",
    "    soup = BeautifulSoup(r.content, 'html.parser')\n",
    "\n",
    "    # here we initialise our empty dictionary for the city\n",
    "    response_dict = {}\n",
    "\n",
    "    # here we fill the dictionary with information using the ids, classes, and selectors that we found in the html\n",
    "    response_dict['city'] = soup.select(\".firstHeading\")[0].get_text()\n",
    "    response_dict['country'] = soup.select(\".infobox-data\")[0].get_text()\n",
    "    response_dict['latitude'] = soup.select(\".latitude\")[0].get_text()\n",
    "    response_dict['longitude'] = soup.select(\".longitude\")[0].get_text()\n",
    "    # not all of the wikipedia pages contain elevation, look at Hamburg\n",
    "    # the if clause means that our code can continue and won't stop at this hurdle\n",
    "    # if soup.select_one('.infobox-label:-soup-contains(\"Elevation\")'):\n",
    "        # response_dict['elevation'] = soup.select_one('.infobox-label:-soup-contains(\"Elevation\")').find_next(class_='infobox-data').get_text()\n",
    "    # response_dict['website'] = soup.select_one('.infobox-label:-soup-contains(\"Website\")').find_next(class_='infobox-data').get_text()\n",
    "    if soup.select_one('th.infobox-header:-soup-contains(\"Population\")'):\n",
    "        response_dict['population'] = soup.select_one('th.infobox-header:-soup-contains(\"Population\")').parent.find_next_sibling().find(text=re.compile(r'\\d+'))\n",
    "\n",
    "    # add our dictionary for the city to list_for_df\n",
    "    list_for_df.append(response_dict)\n",
    "\n",
    "  # make the DataFrame\n",
    "  cities_df = pd.DataFrame(list_for_df)\n",
    "\n",
    "  # fixing latitude\n",
    "  cities_df['latitude'] = cities_df['latitude'].str.split('″').str[0].str.replace('°', '.', regex=False).str.replace('′', '', regex=False)\n",
    "  # fixing longitude\n",
    "  cities_df['longitude'] = cities_df['longitude'].str.split('″').str[0].str.replace('°', '.', regex=False).str.replace('′', '', regex=False)\n",
    "  # fixing elevation\n",
    "  # cities_df.insert(4, 'elevation_in_meters', cities_df['elevation'].str.split('m').str[0].str.strip())\n",
    "\n",
    "  # return the DataFrame\n",
    "  return cities_df"
   ]
  },
  {
   "cell_type": "code",
   "execution_count": null,
   "id": "b2d50536-e284-4eee-9911-1e7fc5134242",
   "metadata": {},
   "outputs": [],
   "source": []
  },
  {
   "cell_type": "code",
   "execution_count": 4,
   "id": "d58aae75-8309-417f-9748-8313b639ba38",
   "metadata": {},
   "outputs": [],
   "source": [
    "cities = ['Berlin', 'London', 'Manchester', 'Istanbul']"
   ]
  },
  {
   "cell_type": "code",
   "execution_count": null,
   "id": "6e51ade0-4c11-47d7-a353-45df305cf0f5",
   "metadata": {},
   "outputs": [],
   "source": [
    "# empty list that will be filled with one dictionary of information per city\n",
    "list_for_df = []\n",
    "\n",
    "  # begin a for loop to create a dictionary of information for each city\n",
    "for city in cities:\n",
    "    # we can use the universal nature of wikipedias urls to our advantage here\n",
    "    # all of the urls are the same besides the city name\n",
    "    url = f'https://en.wikipedia.org/wiki/{city}'\n",
    "\n",
    "    # here we make our soup for the city\n",
    "    r = requests.get(url)\n",
    "    soup = BeautifulSoup(r.content, 'html.parser')\n",
    "\n",
    "    # here we initialise our empty dictionary for the city\n",
    "    response_dict = {}\n",
    "\n",
    "    # here we fill the dictionary with information using the ids, classes, and selectors that we found in the html\n",
    "    response_dict['city'] = soup.select(\".firstHeading\")[0].get_text()\n",
    "    response_dict['country'] = soup.select(\".infobox-data\")[0].get_text()\n",
    "    response_dict['latitude'] = soup.select(\".latitude\")[0].get_text()\n",
    "    response_dict['longitude'] = soup.select(\".longitude\")[0].get_text()\n",
    "    # not all of the wikipedia pages contain elevation, look at Hamburg\n",
    "    # the if clause means that our code can continue and won't stop at this hurdle\n",
    "    # if soup.select_one('.infobox-label:-soup-contains(\"Elevation\")'):\n",
    "        # response_dict['elevation'] = soup.select_one('.infobox-label:-soup-contains(\"Elevation\")').find_next(class_='infobox-data').get_text()\n",
    "    # response_dict['website'] = soup.select_one('.infobox-label:-soup-contains(\"Website\")').find_next(class_='infobox-data').get_text()\n",
    "    if soup.select_one('th.infobox-header:-soup-contains(\"Population\")'):\n",
    "        response_dict['population'] = soup.select_one('th.infobox-header:-soup-contains(\"Population\")').parent.find_next_sibling().find(text=re.compile(r'\\d+'))\n",
    "\n",
    "    # add our dictionary for the city to list_for_df\n",
    "    list_for_df.append(response_dict)\n",
    "\n",
    "# make the DataFrame\n",
    "cities_df = pd.DataFrame(list_for_df)\n",
    "\n",
    "# fixing latitude\n",
    "cities_df['latitude'] = cities_df['latitude'].str.split('″').str[0].str.replace('°', '.', regex=False).str.replace('′', '', regex=False)\n",
    "# fixing longitude\n",
    "cities_df['longitude'] = cities_df['longitude'].str.split('″').str[0].str.replace('°', '.', regex=False).str.replace('′', '', regex=False)"
   ]
  },
  {
   "cell_type": "code",
   "execution_count": 6,
   "id": "59f819fc-28b6-4dae-b136-d8d4d34b71d8",
   "metadata": {},
   "outputs": [
    {
     "data": {
      "text/html": [
       "<div>\n",
       "<style scoped>\n",
       "    .dataframe tbody tr th:only-of-type {\n",
       "        vertical-align: middle;\n",
       "    }\n",
       "\n",
       "    .dataframe tbody tr th {\n",
       "        vertical-align: top;\n",
       "    }\n",
       "\n",
       "    .dataframe thead th {\n",
       "        text-align: right;\n",
       "    }\n",
       "</style>\n",
       "<table border=\"1\" class=\"dataframe\">\n",
       "  <thead>\n",
       "    <tr style=\"text-align: right;\">\n",
       "      <th></th>\n",
       "      <th>city</th>\n",
       "      <th>country</th>\n",
       "      <th>latitude</th>\n",
       "      <th>longitude</th>\n",
       "      <th>population</th>\n",
       "    </tr>\n",
       "  </thead>\n",
       "  <tbody>\n",
       "    <tr>\n",
       "      <th>0</th>\n",
       "      <td>Berlin</td>\n",
       "      <td>Germany</td>\n",
       "      <td>52.3112</td>\n",
       "      <td>13.2418</td>\n",
       "      <td>3,850,809</td>\n",
       "    </tr>\n",
       "    <tr>\n",
       "      <th>1</th>\n",
       "      <td>London</td>\n",
       "      <td>United Kingdom</td>\n",
       "      <td>51.3026</td>\n",
       "      <td>0.739</td>\n",
       "      <td>8,799,800</td>\n",
       "    </tr>\n",
       "    <tr>\n",
       "      <th>2</th>\n",
       "      <td>Manchester</td>\n",
       "      <td>United Kingdom</td>\n",
       "      <td>53.2846</td>\n",
       "      <td>2.1443</td>\n",
       "      <td>551,938</td>\n",
       "    </tr>\n",
       "    <tr>\n",
       "      <th>3</th>\n",
       "      <td>Istanbul</td>\n",
       "      <td>Turkey</td>\n",
       "      <td>41.0049</td>\n",
       "      <td>28.5718</td>\n",
       "      <td>15,907,951</td>\n",
       "    </tr>\n",
       "  </tbody>\n",
       "</table>\n",
       "</div>"
      ],
      "text/plain": [
       "         city         country latitude longitude  population\n",
       "0      Berlin         Germany  52.3112   13.2418   3,850,809\n",
       "1      London  United Kingdom  51.3026     0.739   8,799,800\n",
       "2  Manchester  United Kingdom  53.2846    2.1443     551,938\n",
       "3    Istanbul          Turkey  41.0049   28.5718  15,907,951"
      ]
     },
     "execution_count": 6,
     "metadata": {},
     "output_type": "execute_result"
    }
   ],
   "source": [
    "cities_df"
   ]
  },
  {
   "cell_type": "code",
   "execution_count": 7,
   "id": "55b290bb-01c2-40b3-ac55-03999161b6a8",
   "metadata": {},
   "outputs": [
    {
     "name": "stdout",
     "output_type": "stream",
     "text": [
      "<class 'pandas.core.frame.DataFrame'>\n",
      "RangeIndex: 4 entries, 0 to 3\n",
      "Data columns (total 5 columns):\n",
      " #   Column      Non-Null Count  Dtype \n",
      "---  ------      --------------  ----- \n",
      " 0   city        4 non-null      object\n",
      " 1   country     4 non-null      object\n",
      " 2   latitude    4 non-null      object\n",
      " 3   longitude   4 non-null      object\n",
      " 4   population  4 non-null      object\n",
      "dtypes: object(5)\n",
      "memory usage: 292.0+ bytes\n"
     ]
    }
   ],
   "source": [
    "cities_df.info()"
   ]
  },
  {
   "cell_type": "code",
   "execution_count": 8,
   "id": "2b2a7b80-9e4c-4efc-9e6f-21dbae42a4d1",
   "metadata": {
    "tags": []
   },
   "outputs": [],
   "source": [
    "id = [1,2,3,4]"
   ]
  },
  {
   "cell_type": "code",
   "execution_count": 9,
   "id": "d48b1781-8eab-46c3-96db-a336b06b9f94",
   "metadata": {
    "tags": []
   },
   "outputs": [],
   "source": [
    "cities_df['city_id'] = id"
   ]
  },
  {
   "cell_type": "code",
   "execution_count": 10,
   "id": "5ca3e523-fd4e-44f5-8bc1-374c65b8139a",
   "metadata": {
    "tags": []
   },
   "outputs": [
    {
     "data": {
      "text/html": [
       "<div>\n",
       "<style scoped>\n",
       "    .dataframe tbody tr th:only-of-type {\n",
       "        vertical-align: middle;\n",
       "    }\n",
       "\n",
       "    .dataframe tbody tr th {\n",
       "        vertical-align: top;\n",
       "    }\n",
       "\n",
       "    .dataframe thead th {\n",
       "        text-align: right;\n",
       "    }\n",
       "</style>\n",
       "<table border=\"1\" class=\"dataframe\">\n",
       "  <thead>\n",
       "    <tr style=\"text-align: right;\">\n",
       "      <th></th>\n",
       "      <th>city</th>\n",
       "      <th>country</th>\n",
       "      <th>latitude</th>\n",
       "      <th>longitude</th>\n",
       "      <th>population</th>\n",
       "      <th>city_id</th>\n",
       "    </tr>\n",
       "  </thead>\n",
       "  <tbody>\n",
       "    <tr>\n",
       "      <th>0</th>\n",
       "      <td>Berlin</td>\n",
       "      <td>Germany</td>\n",
       "      <td>52.3112</td>\n",
       "      <td>13.2418</td>\n",
       "      <td>3,850,809</td>\n",
       "      <td>1</td>\n",
       "    </tr>\n",
       "    <tr>\n",
       "      <th>1</th>\n",
       "      <td>London</td>\n",
       "      <td>United Kingdom</td>\n",
       "      <td>51.3026</td>\n",
       "      <td>0.739</td>\n",
       "      <td>8,799,800</td>\n",
       "      <td>2</td>\n",
       "    </tr>\n",
       "    <tr>\n",
       "      <th>2</th>\n",
       "      <td>Manchester</td>\n",
       "      <td>United Kingdom</td>\n",
       "      <td>53.2846</td>\n",
       "      <td>2.1443</td>\n",
       "      <td>551,938</td>\n",
       "      <td>3</td>\n",
       "    </tr>\n",
       "    <tr>\n",
       "      <th>3</th>\n",
       "      <td>Istanbul</td>\n",
       "      <td>Turkey</td>\n",
       "      <td>41.0049</td>\n",
       "      <td>28.5718</td>\n",
       "      <td>15,907,951</td>\n",
       "      <td>4</td>\n",
       "    </tr>\n",
       "  </tbody>\n",
       "</table>\n",
       "</div>"
      ],
      "text/plain": [
       "         city         country latitude longitude  population  city_id\n",
       "0      Berlin         Germany  52.3112   13.2418   3,850,809        1\n",
       "1      London  United Kingdom  51.3026     0.739   8,799,800        2\n",
       "2  Manchester  United Kingdom  53.2846    2.1443     551,938        3\n",
       "3    Istanbul          Turkey  41.0049   28.5718  15,907,951        4"
      ]
     },
     "execution_count": 10,
     "metadata": {},
     "output_type": "execute_result"
    }
   ],
   "source": [
    "cities_df"
   ]
  },
  {
   "cell_type": "code",
   "execution_count": null,
   "id": "40923614-e5dc-4606-8fac-66afbf6e939b",
   "metadata": {},
   "outputs": [],
   "source": []
  },
  {
   "cell_type": "code",
   "execution_count": 11,
   "id": "b8c416d7-fb54-40fb-8eda-aba1a67a0ea8",
   "metadata": {
    "tags": []
   },
   "outputs": [],
   "source": [
    "#clean data and change data types \n",
    "cities_df['population'] = cities_df['population'].str.replace(',', '', regex=False)\n",
    "cities_df['population'] = cities_df['population'].astype(int)\n",
    "cities_df['latitude'] = cities_df['latitude'].astype(float)\n",
    "cities_df['longitude'] = cities_df['longitude'].astype(float)"
   ]
  },
  {
   "cell_type": "code",
   "execution_count": 12,
   "id": "0e5d6dac-935a-403e-811d-9fc56ffd4031",
   "metadata": {},
   "outputs": [
    {
     "name": "stdout",
     "output_type": "stream",
     "text": [
      "<class 'pandas.core.frame.DataFrame'>\n",
      "RangeIndex: 4 entries, 0 to 3\n",
      "Data columns (total 6 columns):\n",
      " #   Column      Non-Null Count  Dtype  \n",
      "---  ------      --------------  -----  \n",
      " 0   city        4 non-null      object \n",
      " 1   country     4 non-null      object \n",
      " 2   latitude    4 non-null      float64\n",
      " 3   longitude   4 non-null      float64\n",
      " 4   population  4 non-null      int64  \n",
      " 5   city_id     4 non-null      int64  \n",
      "dtypes: float64(2), int64(2), object(2)\n",
      "memory usage: 324.0+ bytes\n"
     ]
    }
   ],
   "source": [
    "cities_df.info()"
   ]
  },
  {
   "cell_type": "code",
   "execution_count": 13,
   "id": "9686e426-dd83-4011-99db-dccd452f2d17",
   "metadata": {},
   "outputs": [
    {
     "data": {
      "text/html": [
       "<div>\n",
       "<style scoped>\n",
       "    .dataframe tbody tr th:only-of-type {\n",
       "        vertical-align: middle;\n",
       "    }\n",
       "\n",
       "    .dataframe tbody tr th {\n",
       "        vertical-align: top;\n",
       "    }\n",
       "\n",
       "    .dataframe thead th {\n",
       "        text-align: right;\n",
       "    }\n",
       "</style>\n",
       "<table border=\"1\" class=\"dataframe\">\n",
       "  <thead>\n",
       "    <tr style=\"text-align: right;\">\n",
       "      <th></th>\n",
       "      <th>city</th>\n",
       "      <th>country</th>\n",
       "      <th>latitude</th>\n",
       "      <th>longitude</th>\n",
       "      <th>population</th>\n",
       "      <th>city_id</th>\n",
       "    </tr>\n",
       "  </thead>\n",
       "  <tbody>\n",
       "    <tr>\n",
       "      <th>0</th>\n",
       "      <td>Berlin</td>\n",
       "      <td>Germany</td>\n",
       "      <td>52.3112</td>\n",
       "      <td>13.2418</td>\n",
       "      <td>3850809</td>\n",
       "      <td>1</td>\n",
       "    </tr>\n",
       "    <tr>\n",
       "      <th>1</th>\n",
       "      <td>London</td>\n",
       "      <td>United Kingdom</td>\n",
       "      <td>51.3026</td>\n",
       "      <td>0.7390</td>\n",
       "      <td>8799800</td>\n",
       "      <td>2</td>\n",
       "    </tr>\n",
       "    <tr>\n",
       "      <th>2</th>\n",
       "      <td>Manchester</td>\n",
       "      <td>United Kingdom</td>\n",
       "      <td>53.2846</td>\n",
       "      <td>2.1443</td>\n",
       "      <td>551938</td>\n",
       "      <td>3</td>\n",
       "    </tr>\n",
       "    <tr>\n",
       "      <th>3</th>\n",
       "      <td>Istanbul</td>\n",
       "      <td>Turkey</td>\n",
       "      <td>41.0049</td>\n",
       "      <td>28.5718</td>\n",
       "      <td>15907951</td>\n",
       "      <td>4</td>\n",
       "    </tr>\n",
       "  </tbody>\n",
       "</table>\n",
       "</div>"
      ],
      "text/plain": [
       "         city         country  latitude  longitude  population  city_id\n",
       "0      Berlin         Germany   52.3112    13.2418     3850809        1\n",
       "1      London  United Kingdom   51.3026     0.7390     8799800        2\n",
       "2  Manchester  United Kingdom   53.2846     2.1443      551938        3\n",
       "3    Istanbul          Turkey   41.0049    28.5718    15907951        4"
      ]
     },
     "execution_count": 13,
     "metadata": {},
     "output_type": "execute_result"
    }
   ],
   "source": [
    "cities_df"
   ]
  },
  {
   "cell_type": "code",
   "execution_count": 14,
   "id": "4023f650-b338-4e9e-9ec6-788b35488ccf",
   "metadata": {},
   "outputs": [],
   "source": [
    "#export to a .csv file which can be used later as additional data source\n",
    "cities_df.to_csv('cities.csv', index=False)"
   ]
  },
  {
   "cell_type": "markdown",
   "id": "a106e143-d9f5-4a1f-a85c-25d26ed170cb",
   "metadata": {
    "tags": [],
    "toc-hr-collapsed": true
   },
   "source": [
    "## Connect to the MySQL database"
   ]
  },
  {
   "cell_type": "code",
   "execution_count": 15,
   "id": "d16d673c-5427-4068-925e-79d9357689fe",
   "metadata": {
    "tags": []
   },
   "outputs": [],
   "source": [
    "cities_df = pd.read_csv('cities.csv')\n"
   ]
  },
  {
   "cell_type": "code",
   "execution_count": 16,
   "id": "7d690b5f-1bb2-4d13-b586-b53a72c81229",
   "metadata": {
    "tags": []
   },
   "outputs": [
    {
     "data": {
      "text/html": [
       "<div>\n",
       "<style scoped>\n",
       "    .dataframe tbody tr th:only-of-type {\n",
       "        vertical-align: middle;\n",
       "    }\n",
       "\n",
       "    .dataframe tbody tr th {\n",
       "        vertical-align: top;\n",
       "    }\n",
       "\n",
       "    .dataframe thead th {\n",
       "        text-align: right;\n",
       "    }\n",
       "</style>\n",
       "<table border=\"1\" class=\"dataframe\">\n",
       "  <thead>\n",
       "    <tr style=\"text-align: right;\">\n",
       "      <th></th>\n",
       "      <th>city</th>\n",
       "      <th>country</th>\n",
       "      <th>latitude</th>\n",
       "      <th>longitude</th>\n",
       "      <th>population</th>\n",
       "      <th>city_id</th>\n",
       "    </tr>\n",
       "  </thead>\n",
       "  <tbody>\n",
       "    <tr>\n",
       "      <th>0</th>\n",
       "      <td>Berlin</td>\n",
       "      <td>Germany</td>\n",
       "      <td>52.3112</td>\n",
       "      <td>13.2418</td>\n",
       "      <td>3850809</td>\n",
       "      <td>1</td>\n",
       "    </tr>\n",
       "    <tr>\n",
       "      <th>1</th>\n",
       "      <td>London</td>\n",
       "      <td>United Kingdom</td>\n",
       "      <td>51.3026</td>\n",
       "      <td>0.7390</td>\n",
       "      <td>8799800</td>\n",
       "      <td>2</td>\n",
       "    </tr>\n",
       "    <tr>\n",
       "      <th>2</th>\n",
       "      <td>Manchester</td>\n",
       "      <td>United Kingdom</td>\n",
       "      <td>53.2846</td>\n",
       "      <td>2.1443</td>\n",
       "      <td>551938</td>\n",
       "      <td>3</td>\n",
       "    </tr>\n",
       "    <tr>\n",
       "      <th>3</th>\n",
       "      <td>Istanbul</td>\n",
       "      <td>Turkey</td>\n",
       "      <td>41.0049</td>\n",
       "      <td>28.5718</td>\n",
       "      <td>15907951</td>\n",
       "      <td>4</td>\n",
       "    </tr>\n",
       "  </tbody>\n",
       "</table>\n",
       "</div>"
      ],
      "text/plain": [
       "         city         country  latitude  longitude  population  city_id\n",
       "0      Berlin         Germany   52.3112    13.2418     3850809        1\n",
       "1      London  United Kingdom   51.3026     0.7390     8799800        2\n",
       "2  Manchester  United Kingdom   53.2846     2.1443      551938        3\n",
       "3    Istanbul          Turkey   41.0049    28.5718    15907951        4"
      ]
     },
     "execution_count": 16,
     "metadata": {},
     "output_type": "execute_result"
    }
   ],
   "source": [
    "cities_df"
   ]
  },
  {
   "cell_type": "code",
   "execution_count": 19,
   "id": "5ea47660-bfff-4545-b2e8-dd42d35a0a70",
   "metadata": {},
   "outputs": [],
   "source": [
    "#make a connection to our local database\n",
    "host = '127.0.0.1'\n",
    "schema = 'gans_local' # The name of your database (schema) might be different\n",
    "user = 'root'\n",
    "password = 'sqlkey'\n",
    "port = 3306\n",
    "con = f'mysql+pymysql://{user}:{password}@{host}:{port}/{schema}'"
   ]
  },
  {
   "cell_type": "code",
   "execution_count": null,
   "id": "c3744cee-09af-44c9-b89c-e32f0e51796e",
   "metadata": {},
   "outputs": [],
   "source": [
    "#push data to mysql table in local database\n",
    "cities_df.to_sql('cities',con=con,if_exists='append',index=False)"
   ]
  },
  {
   "cell_type": "code",
   "execution_count": null,
   "id": "ad4551fc-94ac-47b3-886d-8b6143780a97",
   "metadata": {},
   "outputs": [],
   "source": []
  },
  {
   "cell_type": "code",
   "execution_count": null,
   "id": "44205f4f-b7f1-4c8c-bcf9-2eb77ae0e889",
   "metadata": {},
   "outputs": [],
   "source": [
    "cities_df\n",
    "print(cities_df.info())"
   ]
  },
  {
   "cell_type": "markdown",
   "id": "1fede0e2-0187-41cd-af02-8a7bd5b3244e",
   "metadata": {
    "tags": []
   },
   "source": [
    "## Connect MySQL to AWS"
   ]
  },
  {
   "cell_type": "code",
   "execution_count": 21,
   "id": "58e1c6cf-d451-4e7d-b3ab-9bfb72ca6d9c",
   "metadata": {
    "tags": []
   },
   "outputs": [],
   "source": [
    "#make a connection to AWS \n",
    "host = 'wbs-project5-db.csv6puy3yaat.eu-north-1.rds.amazonaws.com'\n",
    "schema = 'gans_aws' # The name of your database (schema) might be different\n",
    "user = 'admin'\n",
    "password = 'awskey'\n",
    "port = 3306\n",
    "con = f'mysql+pymysql://{user}:{password}@{host}:{port}/{schema}'"
   ]
  },
  {
   "cell_type": "code",
   "execution_count": null,
   "id": "b3ab30fb-1c95-4c9c-b30b-1a871e5d7351",
   "metadata": {
    "tags": []
   },
   "outputs": [],
   "source": [
    "cities_df.to_sql('cities',con=con,if_exists='append',index=False)"
   ]
  },
  {
   "cell_type": "code",
   "execution_count": 25,
   "id": "832768c1-9006-4096-a9c2-1d68fb9196af",
   "metadata": {
    "tags": []
   },
   "outputs": [
    {
     "data": {
      "text/html": [
       "<div>\n",
       "<style scoped>\n",
       "    .dataframe tbody tr th:only-of-type {\n",
       "        vertical-align: middle;\n",
       "    }\n",
       "\n",
       "    .dataframe tbody tr th {\n",
       "        vertical-align: top;\n",
       "    }\n",
       "\n",
       "    .dataframe thead th {\n",
       "        text-align: right;\n",
       "    }\n",
       "</style>\n",
       "<table border=\"1\" class=\"dataframe\">\n",
       "  <thead>\n",
       "    <tr style=\"text-align: right;\">\n",
       "      <th></th>\n",
       "      <th>city_id</th>\n",
       "      <th>city</th>\n",
       "      <th>country</th>\n",
       "      <th>latitude</th>\n",
       "      <th>longitude</th>\n",
       "      <th>population</th>\n",
       "    </tr>\n",
       "  </thead>\n",
       "  <tbody>\n",
       "    <tr>\n",
       "      <th>0</th>\n",
       "      <td>1</td>\n",
       "      <td>Berlin</td>\n",
       "      <td>Germany</td>\n",
       "      <td>52.3112</td>\n",
       "      <td>13.2418</td>\n",
       "      <td>3850810.0</td>\n",
       "    </tr>\n",
       "    <tr>\n",
       "      <th>1</th>\n",
       "      <td>2</td>\n",
       "      <td>London</td>\n",
       "      <td>United Kingdom</td>\n",
       "      <td>51.3026</td>\n",
       "      <td>0.7390</td>\n",
       "      <td>8799800.0</td>\n",
       "    </tr>\n",
       "    <tr>\n",
       "      <th>2</th>\n",
       "      <td>3</td>\n",
       "      <td>Manchester</td>\n",
       "      <td>United Kingdom</td>\n",
       "      <td>53.2846</td>\n",
       "      <td>2.1443</td>\n",
       "      <td>551938.0</td>\n",
       "    </tr>\n",
       "    <tr>\n",
       "      <th>3</th>\n",
       "      <td>4</td>\n",
       "      <td>Istanbul</td>\n",
       "      <td>Turkey</td>\n",
       "      <td>41.0049</td>\n",
       "      <td>28.5718</td>\n",
       "      <td>15908000.0</td>\n",
       "    </tr>\n",
       "  </tbody>\n",
       "</table>\n",
       "</div>"
      ],
      "text/plain": [
       "   city_id        city         country  latitude  longitude  population\n",
       "0        1      Berlin         Germany   52.3112    13.2418   3850810.0\n",
       "1        2      London  United Kingdom   51.3026     0.7390   8799800.0\n",
       "2        3  Manchester  United Kingdom   53.2846     2.1443    551938.0\n",
       "3        4    Istanbul          Turkey   41.0049    28.5718  15908000.0"
      ]
     },
     "execution_count": 25,
     "metadata": {},
     "output_type": "execute_result"
    }
   ],
   "source": [
    "# read it and check it\n",
    "cities_df = pd.read_sql('cities', con=con)\n",
    "cities_df"
   ]
  },
  {
   "cell_type": "code",
   "execution_count": null,
   "id": "f55b0f5e-60b5-432d-99ab-5def39f81a7f",
   "metadata": {},
   "outputs": [],
   "source": []
  }
 ],
 "metadata": {
  "kernelspec": {
   "display_name": "Python 3 (ipykernel)",
   "language": "python",
   "name": "python3"
  },
  "language_info": {
   "codemirror_mode": {
    "name": "ipython",
    "version": 3
   },
   "file_extension": ".py",
   "mimetype": "text/x-python",
   "name": "python",
   "nbconvert_exporter": "python",
   "pygments_lexer": "ipython3",
   "version": "3.11.4"
  }
 },
 "nbformat": 4,
 "nbformat_minor": 5
}
